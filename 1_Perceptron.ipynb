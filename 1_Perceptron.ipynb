{
 "cells": [
  {
   "cell_type": "markdown",
   "id": "18e7e66c",
   "metadata": {},
   "source": [
    "# What is Perceptron?"
   ]
  },
  {
   "cell_type": "markdown",
   "id": "f0f0fd07",
   "metadata": {},
   "source": [
    "Perceptron is a single unit of logic in an artificial neural network. The perceptron is an algorithm which output will be a binary conclusion (true/false, 0/1 etc). It only consists of single node."
   ]
  },
  {
   "cell_type": "markdown",
   "id": "a0bc515b",
   "metadata": {},
   "source": [
    "## Main Components: "
   ]
  },
  {
   "cell_type": "markdown",
   "id": "3f0b3429",
   "metadata": {},
   "source": [
    "Inputs, Weights, Bias, Activation Function, Output"
   ]
  },
  {
   "cell_type": "markdown",
   "id": "1c4358de",
   "metadata": {},
   "source": [
    "![alt text](images/Perceptrons.jpeg \"Perceptron Components\")"
   ]
  },
  {
   "cell_type": "markdown",
   "id": "0ce7d8b8",
   "metadata": {},
   "source": [
    "# Steps:"
   ]
  },
  {
   "cell_type": "markdown",
   "id": "e52377ca",
   "metadata": {},
   "source": [
    "1. take inputs and weights.\n",
    "2. multiplied (input x weights) and sum of all.\n",
    "3. add bias with sum, but here we will use threshold value\n",
    "4. Set threshold value to evaluate weighted sum.\n",
    "5. Use Activation function (step function) for evaluation to get final output.\n",
    "6. Our initial outputs may wrong. So we have to update initial weights and bias values."
   ]
  },
  {
   "cell_type": "raw",
   "id": "c4ec06e4",
   "metadata": {},
   "source": [
    "Example:\n",
    "          x1 | x2  | x3    target(y) | actual(y)\n",
    "--------------------------------------------------\n",
    "input :  0.1 | 0.5 | 0.2  |  1    |  0\n",
    "\n",
    "weight:  0.4 | 0.2 | 0.6 "
   ]
  },
  {
   "cell_type": "code",
   "execution_count": 1,
   "id": "9538fedc",
   "metadata": {},
   "outputs": [],
   "source": [
    "# input , weights, threshold\n",
    "x_inputs = [0.1, 0.5, 0.2]\n",
    "w_weights = [0.4, 0.2, 0.6]\n",
    "threshold = 0.5"
   ]
  },
  {
   "cell_type": "code",
   "execution_count": 2,
   "id": "6e8c32e7",
   "metadata": {},
   "outputs": [],
   "source": [
    "# Step function will be used as an Activation function\n",
    "\n",
    "def step_func(weighted_sum):\n",
    "    if weighted_sum > threshold:\n",
    "        return 1\n",
    "    else: return 0"
   ]
  },
  {
   "cell_type": "code",
   "execution_count": 6,
   "id": "39c29ae9",
   "metadata": {},
   "outputs": [],
   "source": [
    "# create perceptron\n",
    "\n",
    "def perceptron():\n",
    "    weighted_sum = 0\n",
    "    for x,w in zip(x_inputs, w_weights):\n",
    "        weighted_sum += x*w\n",
    "        print(weighted_sum)\n",
    "    return step_func(weighted_sum)"
   ]
  },
  {
   "cell_type": "code",
   "execution_count": 7,
   "id": "8051f8af",
   "metadata": {},
   "outputs": [
    {
     "name": "stdout",
     "output_type": "stream",
     "text": [
      "0.04000000000000001\n",
      "0.14\n",
      "0.26\n",
      "output: 0\n"
     ]
    }
   ],
   "source": [
    "output = perceptron()\n",
    "print(\"output: \" + str(output))"
   ]
  },
  {
   "cell_type": "code",
   "execution_count": null,
   "id": "df5ece40",
   "metadata": {},
   "outputs": [],
   "source": []
  }
 ],
 "metadata": {
  "kernelspec": {
   "display_name": "ANN",
   "language": "python",
   "name": "ann"
  },
  "language_info": {
   "codemirror_mode": {
    "name": "ipython",
    "version": 3
   },
   "file_extension": ".py",
   "mimetype": "text/x-python",
   "name": "python",
   "nbconvert_exporter": "python",
   "pygments_lexer": "ipython3",
   "version": "3.9.0"
  }
 },
 "nbformat": 4,
 "nbformat_minor": 5
}
