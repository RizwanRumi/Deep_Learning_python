{
 "cells": [
  {
   "cell_type": "raw",
   "id": "10398714",
   "metadata": {},
   "source": [
    "step:\n",
    "    1. First calculate prediction with sigmoid function\n",
    "    2. Find the error\n",
    "    3. Calculate the gradient descent"
   ]
  },
  {
   "cell_type": "code",
   "execution_count": 1,
   "id": "b846c6f0",
   "metadata": {},
   "outputs": [],
   "source": [
    "import numpy as np"
   ]
  },
  {
   "cell_type": "code",
   "execution_count": 2,
   "id": "da65c869",
   "metadata": {},
   "outputs": [
    {
     "name": "stdout",
     "output_type": "stream",
     "text": [
      "[[0.1 0.5 0.2]\n",
      " [0.2 0.3 0.1]]\n"
     ]
    }
   ],
   "source": [
    "features = np.array(([0.1, 0.5, 0.2], [0.2,0.3,0.1]))\n",
    "print(features)"
   ]
  },
  {
   "cell_type": "code",
   "execution_count": 3,
   "id": "0faad0a6",
   "metadata": {},
   "outputs": [],
   "source": [
    "weights = np.array([0.4, 0.2, 0.6])\n",
    "targets = np.array([0,1])\n",
    "bias = 0.5\n",
    "learning_rate = 0.1"
   ]
  },
  {
   "cell_type": "code",
   "execution_count": null,
   "id": "67d55aeb",
   "metadata": {},
   "outputs": [],
   "source": [
    "def perceptr(feature, weight, bias):"
   ]
  },
  {
   "cell_type": "code",
   "execution_count": 5,
   "id": "84d26953",
   "metadata": {},
   "outputs": [],
   "source": [
    "def sigmoid(weighted_sum):\n",
    "    return 1 / (1 + np.exp(-weighted_sum))"
   ]
  },
  {
   "cell_type": "code",
   "execution_count": 6,
   "id": "a9834d0d",
   "metadata": {},
   "outputs": [],
   "source": [
    "def get_prediction(feature, weight, bias):\n",
    "    weighted_sum = np.dot(feature, weight)    \n",
    "    #return sigmoid(weighted_sum + bias)\n",
    "    return weighted_sum + bias"
   ]
  },
  {
   "cell_type": "code",
   "execution_count": 7,
   "id": "487ec60b",
   "metadata": {},
   "outputs": [],
   "source": [
    "#Loss calculation\n",
    "def cross_entropy(p, y):\n",
    "    return -(y*np.log10(p) + (1 - y) * (np.log10(1 - p)))"
   ]
  },
  {
   "cell_type": "code",
   "execution_count": 8,
   "id": "369c3e28",
   "metadata": {},
   "outputs": [
    {
     "name": "stdout",
     "output_type": "stream",
     "text": [
      "Weighted_sum: 0.76\n",
      "Predicted value:  0.6813537337890256\n",
      "Loss:  0.49669116606994884\n",
      "Weighted_sum: 0.7\n",
      "Predicted value:  0.6681877721681662\n",
      "Loss:  0.17510147621132907\n"
     ]
    }
   ],
   "source": [
    "# Create Neural Network Model\n",
    "for f_input, target  in zip(features, targets):\n",
    "    \n",
    "    weighted_sum = get_prediction(f_input, weights, bias)\n",
    "    print(\"Weighted_sum:\", weighted_sum)\n",
    "    \n",
    "    predicted_value = sigmoid(weighted_sum)\n",
    "    print(\"Predicted value: \", predicted_value)\n",
    "    \n",
    "    print(\"Loss: \", cross_entropy(predicted_value, target)) \n",
    "    "
   ]
  },
  {
   "cell_type": "code",
   "execution_count": null,
   "id": "3011b3e8",
   "metadata": {},
   "outputs": [],
   "source": []
  }
 ],
 "metadata": {
  "kernelspec": {
   "display_name": "ANN",
   "language": "python",
   "name": "ann"
  },
  "language_info": {
   "codemirror_mode": {
    "name": "ipython",
    "version": 3
   },
   "file_extension": ".py",
   "mimetype": "text/x-python",
   "name": "python",
   "nbconvert_exporter": "python",
   "pygments_lexer": "ipython3",
   "version": "3.9.0"
  }
 },
 "nbformat": 4,
 "nbformat_minor": 5
}
