{
 "cells": [
  {
   "cell_type": "raw",
   "id": "5be24c09",
   "metadata": {},
   "source": [
    "step:\n",
    "    1. First calculate prediction with sigmoid function\n",
    "    2. Find the error\n",
    "    3. Calculate the gradient descent"
   ]
  },
  {
   "cell_type": "code",
   "execution_count": 1,
   "id": "76673705",
   "metadata": {},
   "outputs": [],
   "source": [
    "import numpy as np"
   ]
  },
  {
   "cell_type": "code",
   "execution_count": 2,
   "id": "17cb5e45",
   "metadata": {},
   "outputs": [
    {
     "name": "stdout",
     "output_type": "stream",
     "text": [
      "[[0.1 0.5 0.2]\n",
      " [0.2 0.3 0.1]]\n"
     ]
    }
   ],
   "source": [
    "features = np.array(([0.1, 0.5, 0.2], [0.2,0.3,0.1]))\n",
    "print(features)"
   ]
  },
  {
   "cell_type": "code",
   "execution_count": 3,
   "id": "0a10f276",
   "metadata": {},
   "outputs": [],
   "source": [
    "weights = np.array([0.4, 0.2, 0.6])\n",
    "targets = np.array([0,1])\n",
    "bias = 0.5\n",
    "learning_rate = 0.1"
   ]
  },
  {
   "cell_type": "code",
   "execution_count": 4,
   "id": "609adff9",
   "metadata": {},
   "outputs": [],
   "source": [
    "def perceptron(feature, weight, bias):\n",
    "    weighted_sum = np.dot(feature, weight)    \n",
    "    #return sigmoid(weighted_sum + bias)\n",
    "    return weighted_sum + bias"
   ]
  },
  {
   "cell_type": "code",
   "execution_count": 5,
   "id": "fc652ba1",
   "metadata": {},
   "outputs": [],
   "source": [
    "def sigmoid(weighted_sum):\n",
    "    return 1 / (1 + np.exp(-weighted_sum))"
   ]
  },
  {
   "cell_type": "code",
   "execution_count": 6,
   "id": "cfb76e41",
   "metadata": {},
   "outputs": [],
   "source": [
    "#Loss calculation\n",
    "def cross_entropy(p, y):\n",
    "    return -(y*np.log10(p) + (1 - y) * (np.log10(1 - p)))"
   ]
  },
  {
   "cell_type": "code",
   "execution_count": 9,
   "id": "96425f99",
   "metadata": {},
   "outputs": [],
   "source": [
    "# apply gradient descent to update weights and bias value\n",
    "\n",
    "def gradient_descent(feature, weights, bias, target, predict_val, learning_rate):\n",
    "    new_weights = []\n",
    "    # update bias\n",
    "    #formula: new_bias = old_bias + learning_rate x (target - predict) \n",
    "    bias = bias + learning_rate * (target - predict_val)\n",
    "    \n",
    "    #update weights\n",
    "    #formula: new_w = old_w + learning_rate x (target - predict) x feature[i]\n",
    "    for x, old_w in zip(feature, weights):\n",
    "        new_w = old_w + learning_rate * (target - predict_val) * x\n",
    "        new_weights.append(new_w)\n",
    "    \n",
    "    return new_weights, bias"
   ]
  },
  {
   "cell_type": "code",
   "execution_count": 12,
   "id": "9df9267e",
   "metadata": {},
   "outputs": [
    {
     "name": "stdout",
     "output_type": "stream",
     "text": [
      "Weighted_sum: 0.6685781382703873\n",
      "Predicted value:  0.6611847075005033\n",
      "Loss:  0.47003699592615333\n",
      "Updated weight : [0.3940477782369944, 0.1205949950502744, 0.5668196009876899], Update bias : 0.3695579307489472\n",
      "---------------------------\n",
      "Weighted_sum: 0.5412279450101974\n",
      "Predicted value:  0.6320980227780688\n",
      "Loss:  0.19921556815652344\n",
      "Updated weight : [0.401405817781433, 0.13163205436693234, 0.5704986207599092], Update bias : 0.4063481284711403\n",
      "---------------------------\n"
     ]
    }
   ],
   "source": [
    "# Create Neural Network Model\n",
    "for f_input, target  in zip(features, targets):\n",
    "    \n",
    "    weighted_sum = perceptron(f_input, weights, bias)\n",
    "    print(\"Weighted_sum:\", weighted_sum)\n",
    "    \n",
    "    predicted_value = sigmoid(weighted_sum)\n",
    "    print(\"Predicted value: \", predicted_value)\n",
    "    \n",
    "    print(\"Loss: \", cross_entropy(predicted_value, target)) \n",
    "    \n",
    "    weights, bias = gradient_descent(f_input, weights, bias, target, predicted_value, learning_rate)\n",
    "    print(\"Updated weight : {}, Update bias : {}\".format(weights, bias))\n",
    "    \n",
    "    print(\"---------------------------\")\n",
    "    "
   ]
  },
  {
   "cell_type": "code",
   "execution_count": null,
   "id": "31a4c88c",
   "metadata": {},
   "outputs": [],
   "source": []
  }
 ],
 "metadata": {
  "kernelspec": {
   "display_name": "ANN",
   "language": "python",
   "name": "ann"
  },
  "language_info": {
   "codemirror_mode": {
    "name": "ipython",
    "version": 3
   },
   "file_extension": ".py",
   "mimetype": "text/x-python",
   "name": "python",
   "nbconvert_exporter": "python",
   "pygments_lexer": "ipython3",
   "version": "3.9.0"
  }
 },
 "nbformat": 4,
 "nbformat_minor": 5
}
