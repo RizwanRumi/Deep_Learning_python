{
 "cells": [
  {
   "cell_type": "raw",
   "id": "1ff90bbd",
   "metadata": {},
   "source": [
    "step:\n",
    "    1. First calculate prediction with sigmoid function\n",
    "    2. Find the error\n",
    "    3. Calculate the gradient descent"
   ]
  },
  {
   "cell_type": "code",
   "execution_count": 1,
   "id": "51cb85cc",
   "metadata": {},
   "outputs": [],
   "source": [
    "import numpy as np"
   ]
  },
  {
   "cell_type": "code",
   "execution_count": 2,
   "id": "278cc719",
   "metadata": {},
   "outputs": [
    {
     "name": "stdout",
     "output_type": "stream",
     "text": [
      "[[0.1 0.5 0.2]\n",
      " [0.2 0.3 0.1]\n",
      " [0.7 0.4 0.2]\n",
      " [0.1 0.4 0.3]]\n"
     ]
    }
   ],
   "source": [
    "features = np.array(([0.1, 0.5, 0.2], \n",
    "                     [0.2, 0.3, 0.1], \n",
    "                     [0.7, 0.4, 0.2], \n",
    "                     [0.1, 0.4, 0.3]))\n",
    "print(features)"
   ]
  },
  {
   "cell_type": "code",
   "execution_count": 3,
   "id": "782e6b1a",
   "metadata": {},
   "outputs": [],
   "source": [
    "weights = np.array([0.4, 0.2, 0.6])\n",
    "targets = np.array([1,0,1,0])\n",
    "bias = 0.5\n",
    "learning_rate = 0.1"
   ]
  },
  {
   "cell_type": "code",
   "execution_count": 4,
   "id": "e3d2c90f",
   "metadata": {},
   "outputs": [],
   "source": [
    "def perceptron(feature, weight, bias):\n",
    "    weighted_sum = np.dot(feature, weight)    \n",
    "    #return sigmoid(weighted_sum + bias)\n",
    "    return weighted_sum + bias"
   ]
  },
  {
   "cell_type": "code",
   "execution_count": 5,
   "id": "e2f9a435",
   "metadata": {},
   "outputs": [],
   "source": [
    "def sigmoid(weighted_sum):\n",
    "    return 1 / (1 + np.exp(-weighted_sum))"
   ]
  },
  {
   "cell_type": "code",
   "execution_count": 6,
   "id": "757220c2",
   "metadata": {},
   "outputs": [],
   "source": [
    "#Loss calculation\n",
    "def cross_entropy(p, y):\n",
    "    return -(y*np.log10(p) + (1 - y) * (np.log10(1 - p)))"
   ]
  },
  {
   "cell_type": "code",
   "execution_count": 7,
   "id": "ac391557",
   "metadata": {},
   "outputs": [],
   "source": [
    "# apply gradient descent to update weights and bias value\n",
    "\n",
    "def gradient_descent(feature, weights, bias, target, predict_val, learning_rate):\n",
    "    new_weights = []\n",
    "    # update bias\n",
    "    #formula: new_bias = old_bias + learning_rate x (target - predict) \n",
    "    bias = bias + learning_rate * (target - predict_val)\n",
    "    \n",
    "    #update weights\n",
    "    #formula: new_w = old_w + learning_rate x (target - predict) x feature[i]\n",
    "    for x, old_w in zip(feature, weights):\n",
    "        new_w = old_w + learning_rate * (target - predict_val) * x\n",
    "        new_weights.append(new_w)\n",
    "    \n",
    "    return new_weights, bias"
   ]
  },
  {
   "cell_type": "code",
   "execution_count": 15,
   "id": "107809fa",
   "metadata": {},
   "outputs": [
    {
     "name": "stdout",
     "output_type": "stream",
     "text": [
      "***************************************************\n",
      "EPOCH  0\n",
      "***************************************************\n",
      "Average Loss:  0.0051986730051324466\n",
      "***************************************************\n",
      "EPOCH  1\n",
      "***************************************************\n",
      "Average Loss:  0.005198580748211423\n",
      "***************************************************\n",
      "EPOCH  2\n",
      "***************************************************\n",
      "Average Loss:  0.005198488494539181\n",
      "***************************************************\n",
      "EPOCH  3\n",
      "***************************************************\n",
      "Average Loss:  0.005198396244115545\n",
      "***************************************************\n",
      "EPOCH  4\n",
      "***************************************************\n",
      "Average Loss:  0.0051983039969403285\n",
      "***************************************************\n",
      "EPOCH  5\n",
      "***************************************************\n",
      "Average Loss:  0.00519821175301337\n",
      "***************************************************\n",
      "EPOCH  6\n",
      "***************************************************\n",
      "Average Loss:  0.005198119512334531\n",
      "***************************************************\n",
      "EPOCH  7\n",
      "***************************************************\n",
      "Average Loss:  0.005198027274903639\n",
      "***************************************************\n",
      "EPOCH  8\n",
      "***************************************************\n",
      "Average Loss:  0.005197935040720468\n",
      "***************************************************\n",
      "EPOCH  9\n",
      "***************************************************\n",
      "Average Loss:  0.005197842809784868\n",
      "***************************************************\n",
      "EPOCH  10\n",
      "***************************************************\n",
      "Average Loss:  0.005197750582096678\n",
      "***************************************************\n",
      "EPOCH  11\n",
      "***************************************************\n",
      "Average Loss:  0.005197658357655797\n",
      "***************************************************\n",
      "EPOCH  12\n",
      "***************************************************\n",
      "Average Loss:  0.005197566136461903\n",
      "***************************************************\n",
      "EPOCH  13\n",
      "***************************************************\n",
      "Average Loss:  0.005197473918514958\n",
      "***************************************************\n",
      "EPOCH  14\n",
      "***************************************************\n",
      "Average Loss:  0.005197381703814736\n",
      "***************************************************\n",
      "EPOCH  15\n",
      "***************************************************\n",
      "Average Loss:  0.005197289492361027\n",
      "***************************************************\n",
      "EPOCH  16\n",
      "***************************************************\n",
      "Average Loss:  0.005197197284153765\n",
      "***************************************************\n",
      "EPOCH  17\n",
      "***************************************************\n",
      "Average Loss:  0.005197105079192705\n",
      "***************************************************\n",
      "EPOCH  18\n",
      "***************************************************\n",
      "Average Loss:  0.005197012877477708\n",
      "***************************************************\n",
      "EPOCH  19\n",
      "***************************************************\n",
      "Average Loss:  0.005196920679008562\n"
     ]
    }
   ],
   "source": [
    "#Gradient Descent steps over 10 epoch\n",
    "for epoch in range(20):\n",
    "    \n",
    "    # Create Neural Network Model\n",
    "    for f_input, target  in zip(features, targets):\n",
    "        \n",
    "        #print(\"---------------------------\")\n",
    "        weighted_sum = perceptron(f_input, weights, bias)\n",
    "        #print(\"Weighted_sum:\", weighted_sum)\n",
    "\n",
    "        predicted_value = sigmoid(weighted_sum)\n",
    "        #print(\"Predicted value: \", predicted_value)\n",
    "\n",
    "        #print(\"Loss: \", cross_entropy(predicted_value, target)) \n",
    "\n",
    "        weights, bias = gradient_descent(f_input, weights, bias, target, predicted_value, learning_rate)\n",
    "        #print(\"Updated weight : {}, Update bias : {}\".format(weights, bias))\n",
    "        #print(\"---------------------------\")\n",
    "    \n",
    "    # Calculate and print average loss\n",
    "    predictions = sigmoid(perceptron(features, weights, bias))\n",
    "    average_loss = np.mean(cross_entropy(predictions, targets))\n",
    "    \n",
    "    print(\"***************************************************\")\n",
    "    print(\"EPOCH \", epoch)\n",
    "    print(\"***************************************************\")\n",
    "    print(\"Average Loss: \", average_loss)"
   ]
  },
  {
   "cell_type": "code",
   "execution_count": null,
   "id": "60c6da83",
   "metadata": {},
   "outputs": [],
   "source": []
  }
 ],
 "metadata": {
  "kernelspec": {
   "display_name": "ANN",
   "language": "python",
   "name": "ann"
  },
  "language_info": {
   "codemirror_mode": {
    "name": "ipython",
    "version": 3
   },
   "file_extension": ".py",
   "mimetype": "text/x-python",
   "name": "python",
   "nbconvert_exporter": "python",
   "pygments_lexer": "ipython3",
   "version": "3.9.0"
  }
 },
 "nbformat": 4,
 "nbformat_minor": 5
}
