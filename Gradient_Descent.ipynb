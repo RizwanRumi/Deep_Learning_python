{
 "cells": [
  {
   "cell_type": "markdown",
   "id": "8c213ac8",
   "metadata": {},
   "source": [
    "step:\n",
    "    1. First calculate prediction with sigmoid function\n",
    "    2. Find the error\n",
    "    3. Calculate the gradient descent"
   ]
  },
  {
   "cell_type": "code",
   "execution_count": 1,
   "id": "7bef58ce",
   "metadata": {},
   "outputs": [],
   "source": [
    "import numpy as np"
   ]
  },
  {
   "cell_type": "code",
   "execution_count": 60,
   "id": "bd7fa342",
   "metadata": {},
   "outputs": [
    {
     "name": "stdout",
     "output_type": "stream",
     "text": [
      "[[0.1 0.5 0.2]\n",
      " [0.2 0.3 0.1]]\n"
     ]
    }
   ],
   "source": [
    "features = np.array(([0.1, 0.5, 0.2], [0.2,0.3,0.1]))\n",
    "print(features)"
   ]
  },
  {
   "cell_type": "code",
   "execution_count": 86,
   "id": "8da63ff2",
   "metadata": {},
   "outputs": [],
   "source": [
    "weights = np.array([0.4, 0.2, 0.6])\n",
    "targets = np.array([0,1])\n",
    "bias = 0.5\n",
    "learning_rate = 0.1"
   ]
  },
  {
   "cell_type": "code",
   "execution_count": 87,
   "id": "2eee3833",
   "metadata": {},
   "outputs": [],
   "source": [
    "def perceptron(feature, weights, bias):    \n",
    "    weighted_sum = np.dot(feature, weights)    \n",
    "    return sigmoid(weighted_sum + bias)"
   ]
  },
  {
   "cell_type": "code",
   "execution_count": 88,
   "id": "72607a17",
   "metadata": {},
   "outputs": [],
   "source": [
    "def sigmoid(weighted_sum):\n",
    "    return 1 / (1 + np.exp(-weighted_sum))"
   ]
  },
  {
   "cell_type": "code",
   "execution_count": 89,
   "id": "129f7b87",
   "metadata": {},
   "outputs": [],
   "source": [
    "def get_predicted(features, weights, bias):\n",
    "    predicted_values = perceptron(features, weights, bias)\n",
    "    return predicted_values"
   ]
  },
  {
   "cell_type": "code",
   "execution_count": 90,
   "id": "b05292c6",
   "metadata": {},
   "outputs": [
    {
     "name": "stdout",
     "output_type": "stream",
     "text": [
      "[0.68135373 0.66818777]\n"
     ]
    }
   ],
   "source": [
    "result = get_predicted(features, weights, bias)\n",
    "print(result)"
   ]
  },
  {
   "cell_type": "code",
   "execution_count": null,
   "id": "99da45b6",
   "metadata": {},
   "outputs": [],
   "source": []
  }
 ],
 "metadata": {
  "kernelspec": {
   "display_name": "ANN",
   "language": "python",
   "name": "ann"
  },
  "language_info": {
   "codemirror_mode": {
    "name": "ipython",
    "version": 3
   },
   "file_extension": ".py",
   "mimetype": "text/x-python",
   "name": "python",
   "nbconvert_exporter": "python",
   "pygments_lexer": "ipython3",
   "version": "3.9.0"
  }
 },
 "nbformat": 4,
 "nbformat_minor": 5
}
