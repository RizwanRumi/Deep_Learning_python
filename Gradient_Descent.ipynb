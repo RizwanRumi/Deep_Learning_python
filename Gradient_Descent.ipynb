{
 "cells": [
  {
   "cell_type": "raw",
   "id": "7bd7e0c0",
   "metadata": {},
   "source": [
    "step:\n",
    "    1. First calculate prediction with sigmoid function\n",
    "    2. Find the error\n",
    "    3. Calculate the gradient descent"
   ]
  },
  {
   "cell_type": "code",
   "execution_count": 1,
   "id": "cc1d352c",
   "metadata": {},
   "outputs": [],
   "source": [
    "import numpy as np\n",
    "import pandas as pd\n",
    "import matplotlib.pyplot as plt "
   ]
  },
  {
   "cell_type": "code",
   "execution_count": 2,
   "id": "a2e7e4a3",
   "metadata": {},
   "outputs": [
    {
     "name": "stdout",
     "output_type": "stream",
     "text": [
      "[[0.1 0.5 0.2]\n",
      " [0.2 0.3 0.1]\n",
      " [0.7 0.4 0.2]\n",
      " [0.1 0.4 0.3]]\n"
     ]
    }
   ],
   "source": [
    "features = np.array(([0.1, 0.5, 0.2], \n",
    "                     [0.2, 0.3, 0.1], \n",
    "                     [0.7, 0.4, 0.2], \n",
    "                     [0.1, 0.4, 0.3]))\n",
    "print(features)"
   ]
  },
  {
   "cell_type": "code",
   "execution_count": 3,
   "id": "385b6fd6",
   "metadata": {},
   "outputs": [],
   "source": [
    "weights = np.array([0.4, 0.2, 0.6])\n",
    "targets = np.array([1,0,1,0])\n",
    "bias = 0.5\n",
    "learning_rate = 0.1"
   ]
  },
  {
   "cell_type": "code",
   "execution_count": 4,
   "id": "6cffa926",
   "metadata": {},
   "outputs": [],
   "source": [
    "def perceptron(feature, weight, bias):\n",
    "    weighted_sum = np.dot(feature, weight)    \n",
    "    #return sigmoid(weighted_sum + bias)\n",
    "    return weighted_sum + bias"
   ]
  },
  {
   "cell_type": "code",
   "execution_count": 5,
   "id": "91f9dce7",
   "metadata": {},
   "outputs": [],
   "source": [
    "def sigmoid(weighted_sum):\n",
    "    return 1 / (1 + np.exp(-weighted_sum))"
   ]
  },
  {
   "cell_type": "code",
   "execution_count": 6,
   "id": "b1f39d92",
   "metadata": {},
   "outputs": [],
   "source": [
    "#Loss calculation\n",
    "def cross_entropy(p, y):\n",
    "    return -(y*np.log10(p) + (1 - y) * (np.log10(1 - p)))"
   ]
  },
  {
   "cell_type": "code",
   "execution_count": 7,
   "id": "fabb02a2",
   "metadata": {},
   "outputs": [],
   "source": [
    "# apply gradient descent to update weights and bias value\n",
    "\n",
    "def gradient_descent(feature, weights, bias, target, predict_val, learning_rate):\n",
    "    new_weights = []\n",
    "    # update bias\n",
    "    #formula: new_bias = old_bias + learning_rate x (target - predict) \n",
    "    bias = bias + learning_rate * (target - predict_val)\n",
    "    \n",
    "    #update weights\n",
    "    #formula: new_w = old_w + learning_rate x (target - predict) x feature[i]\n",
    "    for x, old_w in zip(feature, weights):\n",
    "        new_w = old_w + learning_rate * (target - predict_val) * x\n",
    "        new_weights.append(new_w)\n",
    "    \n",
    "    return new_weights, bias"
   ]
  },
  {
   "cell_type": "code",
   "execution_count": 8,
   "id": "a4b12bcf",
   "metadata": {},
   "outputs": [
    {
     "name": "stdout",
     "output_type": "stream",
     "text": [
      "***************************************************\n",
      "EPOCH  0\n",
      "***************************************************\n",
      "Average Loss:  0.3164358277972713\n",
      "***************************************************\n",
      "EPOCH  1\n",
      "***************************************************\n",
      "Average Loss:  0.3109535933882859\n",
      "***************************************************\n",
      "EPOCH  2\n",
      "***************************************************\n",
      "Average Loss:  0.3065056292993456\n",
      "***************************************************\n",
      "EPOCH  3\n",
      "***************************************************\n",
      "Average Loss:  0.3028928070377662\n",
      "***************************************************\n",
      "EPOCH  4\n",
      "***************************************************\n",
      "Average Loss:  0.29994814154892113\n",
      "***************************************************\n",
      "EPOCH  5\n",
      "***************************************************\n",
      "Average Loss:  0.29753404460600147\n",
      "***************************************************\n",
      "EPOCH  6\n",
      "***************************************************\n",
      "Average Loss:  0.2955387326655531\n",
      "***************************************************\n",
      "EPOCH  7\n",
      "***************************************************\n",
      "Average Loss:  0.29387240331408243\n",
      "***************************************************\n",
      "EPOCH  8\n",
      "***************************************************\n",
      "Average Loss:  0.29246356082806635\n",
      "***************************************************\n",
      "EPOCH  9\n",
      "***************************************************\n",
      "Average Loss:  0.2912556960205355\n",
      "***************************************************\n",
      "EPOCH  10\n",
      "***************************************************\n",
      "Average Loss:  0.29020440649329116\n",
      "***************************************************\n",
      "EPOCH  11\n",
      "***************************************************\n",
      "Average Loss:  0.28927496963039634\n",
      "***************************************************\n",
      "EPOCH  12\n",
      "***************************************************\n",
      "Average Loss:  0.28844033946752323\n",
      "***************************************************\n",
      "EPOCH  13\n",
      "***************************************************\n",
      "Average Loss:  0.2876795189557757\n",
      "***************************************************\n",
      "EPOCH  14\n",
      "***************************************************\n",
      "Average Loss:  0.28697625279610883\n",
      "***************************************************\n",
      "EPOCH  15\n",
      "***************************************************\n",
      "Average Loss:  0.2863179871966556\n",
      "***************************************************\n",
      "EPOCH  16\n",
      "***************************************************\n",
      "Average Loss:  0.2856950478743734\n",
      "***************************************************\n",
      "EPOCH  17\n",
      "***************************************************\n",
      "Average Loss:  0.28509999411462306\n",
      "***************************************************\n",
      "EPOCH  18\n",
      "***************************************************\n",
      "Average Loss:  0.2845271134235246\n",
      "***************************************************\n",
      "EPOCH  19\n",
      "***************************************************\n",
      "Average Loss:  0.2839720275837563\n"
     ]
    }
   ],
   "source": [
    "epoch_loss = [] \n",
    "\n",
    "#Gradient Descent steps over 10 epoch\n",
    "for epoch in range(20):\n",
    "    \n",
    "    # Create Neural Network Model\n",
    "    for f_input, target  in zip(features, targets):\n",
    "        \n",
    "        #print(\"---------------------------\")\n",
    "        weighted_sum = perceptron(f_input, weights, bias)\n",
    "        #print(\"Weighted_sum:\", weighted_sum)\n",
    "\n",
    "        predicted_value = sigmoid(weighted_sum)\n",
    "        #print(\"Predicted value: \", predicted_value)\n",
    "\n",
    "        #print(\"Loss: \", cross_entropy(predicted_value, target)) \n",
    "\n",
    "        weights, bias = gradient_descent(f_input, weights, bias, target, predicted_value, learning_rate)\n",
    "        #print(\"Updated weight : {}, Update bias : {}\".format(weights, bias))\n",
    "        #print(\"---------------------------\")\n",
    "    \n",
    "    # Calculate and print average loss\n",
    "    predictions = sigmoid(perceptron(features, weights, bias))\n",
    "    average_loss = np.mean(cross_entropy(predictions, targets))\n",
    "    epoch_loss.append(average_loss)\n",
    "    \n",
    "    print(\"***************************************************\")\n",
    "    print(\"EPOCH \", epoch)\n",
    "    print(\"***************************************************\")\n",
    "    print(\"Average Loss: \", average_loss)"
   ]
  },
  {
   "cell_type": "code",
   "execution_count": 25,
   "id": "16c396e0",
   "metadata": {},
   "outputs": [
    {
     "data": {
      "image/png": "[encoded data removed]",
      "text/plain": [
       "<Figure size 432x288 with 1 Axes>"
      ]
     },
     "metadata": {
      "needs_background": "light"
     },
     "output_type": "display_data"
    }
   ],
   "source": [
    "#plot the average loss\n",
    "\n",
    "df = pd.DataFrame(epoch_loss)\n",
    "df_plot = df.plot(kind='line', grid=True).get_figure()\n",
    "plt.show(df_plot)"
   ]
  },
  {
   "cell_type": "code",
   "execution_count": null,
   "id": "ac4a9872",
   "metadata": {},
   "outputs": [],
   "source": []
  }
 ],
 "metadata": {
  "kernelspec": {
   "display_name": "ANN",
   "language": "python",
   "name": "ann"
  },
  "language_info": {
   "codemirror_mode": {
    "name": "ipython",
    "version": 3
   },
   "file_extension": ".py",
   "mimetype": "text/x-python",
   "name": "python",
   "nbconvert_exporter": "python",
   "pygments_lexer": "ipython3",
   "version": "3.9.0"
  }
 },
 "nbformat": 4,
 "nbformat_minor": 5
}
