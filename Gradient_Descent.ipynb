{
 "cells": [
  {
   "cell_type": "markdown",
   "id": "a3ca0c2e",
   "metadata": {},
   "source": [
    "step:\n",
    "    1. First calculate prediction with sigmoid function\n",
    "    2. Find the error\n",
    "    3. Calculate the gradient descent"
   ]
  },
  {
   "cell_type": "code",
   "execution_count": 1,
   "id": "ba007bc0",
   "metadata": {},
   "outputs": [],
   "source": [
    "import numpy as np"
   ]
  },
  {
   "cell_type": "code",
   "execution_count": 60,
   "id": "32d8bb61",
   "metadata": {},
   "outputs": [
    {
     "name": "stdout",
     "output_type": "stream",
     "text": [
      "[[0.1 0.5 0.2]\n",
      " [0.2 0.3 0.1]]\n"
     ]
    }
   ],
   "source": [
    "features = np.array(([0.1, 0.5, 0.2], [0.2,0.3,0.1]))\n",
    "print(features)"
   ]
  },
  {
   "cell_type": "code",
   "execution_count": 61,
   "id": "4e6c7aa4",
   "metadata": {},
   "outputs": [],
   "source": [
    "weights = np.array([0.4, 0.2, 0.6])\n",
    "targets = np.array([0,1])\n",
    "bias = 0.5\n",
    "learning_rate = 0.1"
   ]
  },
  {
   "cell_type": "code",
   "execution_count": 80,
   "id": "296bbc75",
   "metadata": {},
   "outputs": [],
   "source": [
    "def perceptron(feature, weights, bias):    \n",
    "    weighted_sum = np.dot(feature, weights)    \n",
    "    return weighted_sum + bias"
   ]
  },
  {
   "cell_type": "code",
   "execution_count": 81,
   "id": "d910a370",
   "metadata": {},
   "outputs": [],
   "source": [
    "def sigmoid(weighted_sum):\n",
    "    return 1 / (1 + np.exp(-weighted_sum))"
   ]
  },
  {
   "cell_type": "code",
   "execution_count": 82,
   "id": "bac8789f",
   "metadata": {},
   "outputs": [],
   "source": [
    "def get_predicted(features, weights, bias):\n",
    "    weighted_sum_list = perceptron(features, weights, bias)\n",
    "    pred=[]\n",
    "    for i in weighted_sum_list:\n",
    "        pred.append(sigmoid(i)) \n",
    "    return pred"
   ]
  },
  {
   "cell_type": "code",
   "execution_count": 83,
   "id": "77a0b1cb",
   "metadata": {},
   "outputs": [
    {
     "name": "stdout",
     "output_type": "stream",
     "text": [
      "[0.6813537337890256, 0.6681877721681662]\n"
     ]
    }
   ],
   "source": [
    "result = get_predicted(features, weights, bias)\n",
    "print(result)"
   ]
  },
  {
   "cell_type": "code",
   "execution_count": null,
   "id": "12ebc0ea",
   "metadata": {},
   "outputs": [],
   "source": []
  }
 ],
 "metadata": {
  "kernelspec": {
   "display_name": "ANN",
   "language": "python",
   "name": "ann"
  },
  "language_info": {
   "codemirror_mode": {
    "name": "ipython",
    "version": 3
   },
   "file_extension": ".py",
   "mimetype": "text/x-python",
   "name": "python",
   "nbconvert_exporter": "python",
   "pygments_lexer": "ipython3",
   "version": "3.9.0"
  }
 },
 "nbformat": 4,
 "nbformat_minor": 5
}
