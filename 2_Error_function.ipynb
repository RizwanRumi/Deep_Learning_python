{
 "cells": [
  {
   "cell_type": "raw",
   "id": "a2e26078",
   "metadata": {},
   "source": [
    "Example:\n",
    "          x1 | x2  | x3    target(y) | actual(^y)\n",
    "--------------------------------------------------\n",
    "input :  0.1 | 0.5 | 0.2  |  1       |   0\n",
    "         0.2 | 0.3 | 0.1  |  0       |   0\n",
    "         0.7 | 0.4 | 0.2  |  1       |   0\n",
    "         0.1 | 0.4 | 0.3  |  0       |   0\n",
    "         \n",
    "weight:  0.4 | 0.2 | 0.6 "
   ]
  },
  {
   "cell_type": "code",
   "execution_count": 28,
   "id": "ebce3b4e",
   "metadata": {},
   "outputs": [],
   "source": [
    "entry_1 = [0.1, 0.5, 0.2]\n",
    "entry_2 = [0.2, 0.3, 0.1]\n",
    "entry_3 = [0.7, 0.4, 0.2]\n",
    "entry_4 = [0.1, 0.4, 0.3]\n",
    "\n",
    "weights = [0.4, 0.2, 0.6]\n",
    "\n",
    "threshold = 0.5\n",
    "\n",
    "target = [1, 0, 1, 0]\n",
    "\n",
    "weighted_sum_list = []\n",
    "actual = []"
   ]
  },
  {
   "cell_type": "code",
   "execution_count": 29,
   "id": "dc1eb8f3",
   "metadata": {},
   "outputs": [],
   "source": [
    "def step_func(weighted_sum):\n",
    "    if weighted_sum > threshold:\n",
    "        return 1\n",
    "    else: \n",
    "        return 0"
   ]
  },
  {
   "cell_type": "code",
   "execution_count": 30,
   "id": "dcd9b37d",
   "metadata": {},
   "outputs": [],
   "source": [
    "def perceptron(x_inputs, w_weights):\n",
    "    weighted_sum = 0\n",
    "    for x,w in zip(x_inputs, w_weights):\n",
    "        weighted_sum += x*w\n",
    "        #print(weighted_sum)\n",
    "    weighted_sum_list.append(weighted_sum)    \n",
    "    \n",
    "    prediction = step_func(weighted_sum)\n",
    "    actual.append(prediction)"
   ]
  },
  {
   "cell_type": "code",
   "execution_count": 31,
   "id": "a2d00633",
   "metadata": {},
   "outputs": [],
   "source": [
    "neuron_list = []\n",
    "neuron_list.append(entry_1)\n",
    "neuron_list.append(entry_2)\n",
    "neuron_list.append(entry_3)\n",
    "neuron_list.append(entry_4)    "
   ]
  },
  {
   "cell_type": "code",
   "execution_count": 32,
   "id": "98581f1c",
   "metadata": {},
   "outputs": [
    {
     "name": "stdout",
     "output_type": "stream",
     "text": [
      "[[0.1, 0.5, 0.2], [0.2, 0.3, 0.1], [0.7, 0.4, 0.2], [0.1, 0.4, 0.3]]\n"
     ]
    }
   ],
   "source": [
    "print(neuron_list)"
   ]
  },
  {
   "cell_type": "code",
   "execution_count": 33,
   "id": "95f5c012",
   "metadata": {},
   "outputs": [],
   "source": [
    "for i in range(len(neuron_list)):\n",
    "    perceptron(neuron_list[i], weights)"
   ]
  },
  {
   "cell_type": "code",
   "execution_count": 38,
   "id": "9a258db0",
   "metadata": {},
   "outputs": [
    {
     "name": "stdout",
     "output_type": "stream",
     "text": [
      "Total weighted Sum: [0.26, 0.2, 0.48, 0.30000000000000004]\n"
     ]
    }
   ],
   "source": [
    "print(\"Total weighted Sum: \" + str(weighted_sum_list))"
   ]
  },
  {
   "cell_type": "code",
   "execution_count": 40,
   "id": "e592544c",
   "metadata": {},
   "outputs": [
    {
     "name": "stdout",
     "output_type": "stream",
     "text": [
      "Target: [1, 0, 1, 0]\n",
      "Actual: [0, 0, 0, 0]\n"
     ]
    }
   ],
   "source": [
    "print(\"Target: \" + str(target))\n",
    "print(\"Actual: \" + str(actual))"
   ]
  },
  {
   "cell_type": "markdown",
   "id": "3801433b",
   "metadata": {},
   "source": [
    "# Error Function"
   ]
  },
  {
   "cell_type": "markdown",
   "id": "2c3b6cef",
   "metadata": {},
   "source": [
    "If the predicted result is wrong then we have to calculate the distance between actual and target output. For this, we use Error function also called Loss Function or Cost. Below, we will use Cross Entropy Loss Error Function known as Log loss."
   ]
  },
  {
   "cell_type": "markdown",
   "id": "78dfa7d8",
   "metadata": {},
   "source": [
    "# #Cross Entropy Loss / Log Loss"
   ]
  },
  {
   "cell_type": "code",
   "execution_count": null,
   "id": "43cc6a6b",
   "metadata": {},
   "outputs": [],
   "source": []
  }
 ],
 "metadata": {
  "kernelspec": {
   "display_name": "ANN",
   "language": "python",
   "name": "ann"
  },
  "language_info": {
   "codemirror_mode": {
    "name": "ipython",
    "version": 3
   },
   "file_extension": ".py",
   "mimetype": "text/x-python",
   "name": "python",
   "nbconvert_exporter": "python",
   "pygments_lexer": "ipython3",
   "version": "3.9.0"
  }
 },
 "nbformat": 4,
 "nbformat_minor": 5
}
