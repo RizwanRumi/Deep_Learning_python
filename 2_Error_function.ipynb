{
 "cells": [
  {
   "cell_type": "raw",
   "id": "5a100044",
   "metadata": {},
   "source": [
    "Example:\n",
    "          x1 | x2  | x3    target(y) | actual(^y)\n",
    "--------------------------------------------------\n",
    "input :  0.1 | 0.5 | 0.2  |  1       |   0\n",
    "         0.2 | 0.3 | 0.1  |  0       |   0\n",
    "         0.7 | 0.4 | 0.2  |  1       |   0\n",
    "         0.1 | 0.4 | 0.3  |  0       |   0\n",
    "         \n",
    "weight:  0.4 | 0.2 | 0.6 "
   ]
  },
  {
   "cell_type": "code",
   "execution_count": 53,
   "id": "e924fc76",
   "metadata": {},
   "outputs": [],
   "source": [
    "feature_1 = [0.1, 0.5, 0.2]\n",
    "feature_2 = [0.2, 0.3, 0.1]\n",
    "feature_3 = [0.7, 0.4, 0.2]\n",
    "feature_4 = [0.1, 0.4, 0.3]\n",
    "\n",
    "weights = [0.4, 0.2, 0.6]\n",
    "\n",
    "threshold = 0.5\n",
    "\n",
    "target = [1, 0, 1, 0]\n",
    "\n",
    "weighted_sum_list = []\n",
    "actual = []"
   ]
  },
  {
   "cell_type": "code",
   "execution_count": 54,
   "id": "a4673aa0",
   "metadata": {},
   "outputs": [],
   "source": [
    "def step_func(weighted_sum):\n",
    "    if weighted_sum > threshold:\n",
    "        return 1\n",
    "    else: \n",
    "        return 0"
   ]
  },
  {
   "cell_type": "code",
   "execution_count": 55,
   "id": "da03c44d",
   "metadata": {},
   "outputs": [],
   "source": [
    "def perceptron(x_inputs, w_weights):\n",
    "    weighted_sum = 0\n",
    "    for x,w in zip(x_inputs, w_weights):\n",
    "        weighted_sum += x*w\n",
    "        #print(weighted_sum)\n",
    "    weighted_sum_list.append(weighted_sum)    \n",
    "    \n",
    "    prediction = step_func(weighted_sum)\n",
    "    actual.append(prediction)"
   ]
  },
  {
   "cell_type": "code",
   "execution_count": 56,
   "id": "7a18c34b",
   "metadata": {},
   "outputs": [],
   "source": [
    "feature_list = []\n",
    "feature_list.append(feature_1)\n",
    "feature_list.append(feature_2)\n",
    "feature_list.append(feature_3)\n",
    "feature_list.append(feature_4)    "
   ]
  },
  {
   "cell_type": "code",
   "execution_count": 57,
   "id": "8080945e",
   "metadata": {},
   "outputs": [
    {
     "name": "stdout",
     "output_type": "stream",
     "text": [
      "[[0.1, 0.5, 0.2], [0.2, 0.3, 0.1], [0.7, 0.4, 0.2], [0.1, 0.4, 0.3]]\n"
     ]
    }
   ],
   "source": [
    "print(feature_list)"
   ]
  },
  {
   "cell_type": "code",
   "execution_count": 58,
   "id": "20f2d87c",
   "metadata": {},
   "outputs": [],
   "source": [
    "for i in range(len(feature_list)):\n",
    "    perceptron(feature_list[i], weights)"
   ]
  },
  {
   "cell_type": "code",
   "execution_count": 59,
   "id": "e542160c",
   "metadata": {},
   "outputs": [
    {
     "name": "stdout",
     "output_type": "stream",
     "text": [
      "Total weighted Sum: ['0.26', '0.20', '0.48', '0.30']\n"
     ]
    }
   ],
   "source": [
    "weighted_sum_list = [ '%.2f' % elem for elem in weighted_sum_list ]\n",
    "print(\"Total weighted Sum: \" + str(weighted_sum_list))"
   ]
  },
  {
   "cell_type": "code",
   "execution_count": 60,
   "id": "4af7b3f0",
   "metadata": {},
   "outputs": [
    {
     "name": "stdout",
     "output_type": "stream",
     "text": [
      "Target: [1, 0, 1, 0]\n",
      "Actual: [0, 0, 0, 0]\n"
     ]
    }
   ],
   "source": [
    "print(\"Target: \" + str(target))\n",
    "print(\"Actual: \" + str(actual))"
   ]
  },
  {
   "cell_type": "markdown",
   "id": "06b4e614",
   "metadata": {},
   "source": [
    "# Error Function"
   ]
  },
  {
   "cell_type": "markdown",
   "id": "42f7f4eb",
   "metadata": {},
   "source": [
    "If the predicted result is wrong then we have to calculate the distance between actual and target output. For this, we use Error function also called Loss Function or Cost. Below, we will use Cross Entropy Loss Error Function known as Log loss."
   ]
  },
  {
   "cell_type": "markdown",
   "id": "fd2e37d6",
   "metadata": {},
   "source": [
    "# Cross Entropy Loss / Log Loss"
   ]
  },
  {
   "cell_type": "markdown",
   "id": "57afdcac",
   "metadata": {},
   "source": [
    "### Formula: −(ylog(p)+(1−y)log(1−p))"
   ]
  },
  {
   "cell_type": "code",
   "execution_count": 61,
   "id": "252d2c36",
   "metadata": {},
   "outputs": [],
   "source": [
    "import math"
   ]
  },
  {
   "cell_type": "code",
   "execution_count": 73,
   "id": "226d2857",
   "metadata": {},
   "outputs": [],
   "source": [
    "input_data =[]\n",
    "\n",
    "for w_sum, t_val in zip(weighted_sum_list, target):\n",
    "    input_data.append((float(w_sum), t_val))"
   ]
  },
  {
   "cell_type": "code",
   "execution_count": 74,
   "id": "9b922db7",
   "metadata": {},
   "outputs": [
    {
     "name": "stdout",
     "output_type": "stream",
     "text": [
      "[(0.26, 1), (0.2, 0), (0.48, 1), (0.3, 0)]\n"
     ]
    }
   ],
   "source": [
    "print(input_data)"
   ]
  },
  {
   "cell_type": "code",
   "execution_count": 77,
   "id": "b0b12324",
   "metadata": {},
   "outputs": [],
   "source": [
    "# y = target value, P = weighted_sum \n",
    "\n",
    "def cross_entropy(input):\n",
    "    loss = 0\n",
    "    n = len(input)\n",
    "    \n",
    "    for data in input:\n",
    "        p = data[0]\n",
    "        y = data[1]\n",
    "        loss += -(y * math.log10(p) + (1-y) * math.log10(1-p))\n",
    "        print(loss)\n",
    "    return loss/n "
   ]
  },
  {
   "cell_type": "code",
   "execution_count": 81,
   "id": "007e9d55",
   "metadata": {},
   "outputs": [
    {
     "name": "stdout",
     "output_type": "stream",
     "text": [
      "0.585026652029182\n",
      "0.6819366650372384\n",
      "1.000695427661651\n",
      "1.1555973876473944\n",
      "Average Error: 0.2888993469118486\n"
     ]
    }
   ],
   "source": [
    "average_error = cross_entropy(input_data)\n",
    "print(\"Average Error: \" + str(average_error))"
   ]
  },
  {
   "cell_type": "code",
   "execution_count": null,
   "id": "612eda93",
   "metadata": {},
   "outputs": [],
   "source": []
  }
 ],
 "metadata": {
  "kernelspec": {
   "display_name": "ANN",
   "language": "python",
   "name": "ann"
  },
  "language_info": {
   "codemirror_mode": {
    "name": "ipython",
    "version": 3
   },
   "file_extension": ".py",
   "mimetype": "text/x-python",
   "name": "python",
   "nbconvert_exporter": "python",
   "pygments_lexer": "ipython3",
   "version": "3.9.0"
  }
 },
 "nbformat": 4,
 "nbformat_minor": 5
}
